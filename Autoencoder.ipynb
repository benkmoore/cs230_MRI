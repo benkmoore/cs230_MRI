{
 "cells": [
  {
   "cell_type": "code",
   "execution_count": 3,
   "metadata": {},
   "outputs": [],
   "source": [
    "import os\n",
    "os.environ[\"CUDA_DEVICE_ORDER\"]=\"PCI_BUS_ID\";\n",
    " \n",
    "# The GPU id to use, usually either \"0\" or \"1\";\n",
    "os.environ[\"CUDA_VISIBLE_DEVICES\"]=\"0\"\n",
    "\n",
    "import nibabel as nib\n",
    "import matplotlib.pyplot as plt\n",
    "# there was some problems for using import tensorflow as tf\n",
    "# the way I found to fix it is the next two lines\n",
    "import tensorflow.compat.v1 as tf \n",
    "tf.disable_v2_behavior()\n",
    "\n",
    "import keras\n",
    "import numpy as np\n",
    "import os\n",
    "\n",
    "from keras import backend\n",
    "from keras.preprocessing.image import ImageDataGenerator\n",
    "from keras.layers import Activation, GlobalAveragePooling2D, Dense\n",
    "from keras.layers import Input, Conv2D, ZeroPadding2D, BatchNormalization\n",
    "from keras.models import Model\n",
    "from keras.applications.resnet50 import ResNet50\n",
    "from keras.preprocessing import image\n",
    "from keras.preprocessing.text import one_hot\n",
    "from keras.preprocessing.text import text_to_word_sequence\n",
    "from keras.applications.resnet50 import preprocess_input, decode_predictions\n",
    "from keras.utils import to_categorical\n"
   ]
  },
  {
   "cell_type": "code",
   "execution_count": 4,
   "metadata": {},
   "outputs": [],
   "source": [
    "def getListOfFiles(dirName):\n",
    "    # create a list of file and sub directories \n",
    "    # names in the given directory \n",
    "    listOfFile = os.listdir(dirName)\n",
    "    allFiles = list()\n",
    "    # Iterate over all the entries\n",
    "    for entry in listOfFile:\n",
    "        # Create full path\n",
    "        fullPath = os.path.join(dirName, entry)\n",
    "        # If entry is a directory then get the list of files in this directory \n",
    "        if os.path.isdir(fullPath):\n",
    "            allFiles = allFiles + getListOfFiles(fullPath)\n",
    "        elif fullPath[-4:]=='.nii': # to avoid DS_Store or other system files\n",
    "            allFiles.append(fullPath)\n",
    "                \n",
    "    return allFiles"
   ]
  },
  {
   "cell_type": "code",
   "execution_count": 5,
   "metadata": {},
   "outputs": [],
   "source": [
    "def getImage( subject, directory ):\n",
    "\n",
    "    epi_img = nib.load(directory + subject + '.nii')\n",
    "    epi_img_data = epi_img.get_fdata()\n",
    "        \n",
    "    return epi_img_data"
   ]
  },
  {
   "cell_type": "code",
   "execution_count": 6,
   "metadata": {},
   "outputs": [
    {
     "name": "stdout",
     "output_type": "stream",
     "text": [
      "Image Shape (256, 256, 166)\n",
      "<class 'numpy.ndarray'>\n"
     ]
    }
   ],
   "source": [
    "#extract m 5*5*5 patch from the images and put them in 'data' variable\n",
    "\n",
    "#As we want to have 1000 patches from 100 MRI scanes\n",
    "m = 100*10\n",
    "\n",
    "#flatten patches\n",
    "data = np.empty((m, 125))\n",
    "\n",
    "#You may want to change the following line to the folder in which files are stores\n",
    "directory = \"./../../../../../Documents/Stanford/cs230/ADNI/ADNI_Clean/\"\n",
    "files = getListOfFiles(directory)\n",
    "filenums = len(files)\n",
    "\n",
    "# We will skip the patches that are all zero ('bad' patches)\n",
    "num_added = 0\n",
    "\n",
    "#for loop will continue until m 'good' patches added to data\n",
    "for index in range(m):\n",
    "    if num_added >= m:\n",
    "        #all data is complete now\n",
    "        break\n",
    "    random = np.random.randint(filenums)\n",
    "    filename = files[random]\n",
    "    subject = filename[:-4]\n",
    "    image = getImage(subject=subject, directory=directory)\n",
    "    \n",
    "    #about 10 patches from each image\n",
    "    for i in range(10):\n",
    "        n_i, n_j, n_k = image.shape\n",
    "        rand = np.random.rand(3)\n",
    "    \n",
    "        corner_i = np.random.randint(n_i-5)\n",
    "        corner_j = np.random.randint(n_j-5)\n",
    "        corner_k = np.random.randint(n_k-5)\n",
    "        patch = image[corner_i:corner_i+5,corner_j:corner_j+5,corner_k:corner_k+5]\n",
    "        patch = patch.flatten()\n",
    "        if np.linalg.norm(patch)!=0:\n",
    "            data[num_added,:] = patch\n",
    "#             print(data[index,:])\n",
    "            num_added += 1\n",
    "#             print('added', num_added)\n",
    "            if num_added >= m:\n",
    "                break\n",
    " \n",
    "    \n",
    "# Normalize data\n",
    "from sklearn.preprocessing import StandardScaler\n",
    "\n",
    "scaler = StandardScaler()\n",
    "X_train = scaler.fit_transform(data[:int(0.7*m)])\n",
    "X_train = np.transpose(scaler.fit_transform(data[:int(0.7*m)]))\n",
    "X_test =  np.transpose(scaler.fit_transform(data[int(0.7*m):]))\n"
   ]
  },
  {
   "cell_type": "code",
   "execution_count": 30,
   "metadata": {},
   "outputs": [],
   "source": [
    "#initializing parameters\n",
    "n_inputs = 125\n",
    "n_hidden = 150\n",
    "n_outputs = 125\n",
    "\n",
    "def initialize_parameters():\n",
    "    \n",
    "    \n",
    "        \n",
    "    ### START CODE HERE ### (approx. 6 lines of code)\n",
    "    W1 = tf.get_variable(\"W1\", [n_hidden,n_inputs])\n",
    "    b1 = tf.get_variable(\"b1\",[n_hidden,1],initializer=tf.zeros_initializer())\n",
    "    b2 = tf.get_variable(\"b2\",[n_outputs,1],initializer=tf.zeros_initializer())\n",
    "    ### END CODE HERE ###\n",
    "\n",
    "    parameters = {\"W1\": W1,\n",
    "                  \"b1\": b1,\n",
    "                  \"b2\": b2}\n",
    "    \n",
    "    return parameters"
   ]
  },
  {
   "cell_type": "code",
   "execution_count": 39,
   "metadata": {},
   "outputs": [],
   "source": [
    "tf.reset_default_graph()\n",
    "with tf.Session() as sess:\n",
    "    parameters = initialize_parameters()"
   ]
  },
  {
   "cell_type": "code",
   "execution_count": 40,
   "metadata": {},
   "outputs": [
    {
     "name": "stdout",
     "output_type": "stream",
     "text": [
      "type xtrain <class 'numpy.ndarray'>\n"
     ]
    }
   ],
   "source": [
    "import tensorflow.compat.v1 as tf\n",
    "tf.disable_v2_behavior()\n",
    "\n",
    "\n",
    "#retrive parameters\n",
    "W1 = parameters['W1']\n",
    "b1 = parameters['b1']\n",
    "b2 = parameters['b2']\n",
    "\n",
    "\n",
    "learning_rate = 0.01\n",
    "\n",
    "#sparsity hyper-parameter (It is not the best amount)\n",
    "s=0.05\n",
    "\n",
    "#penalty for sparsity (It is not the best amount)\n",
    "beta = 1\n",
    "\n",
    "#lambda, hyperparameter for weights (It is not the best amount)\n",
    "lamb = 1\n",
    "\n",
    "# Define architecture of autoencoder\n",
    "X = tf.placeholder(tf.float32, shape=[n_inputs, None])\n",
    "Z1 = tf.add(tf.matmul(W1,X),b1)\n",
    "\n",
    "#regarding the paper first layer activation is sigmoid\n",
    "hidden = tf.nn.sigmoid(Z1)\n",
    "\n",
    "#regarding the paper second activation is identity\n",
    "#regarding the paper the kernel for second activation is transpose of the first layer kernel\n",
    "outputs = tf.add(tf.matmul(tf.transpose(W1),hidden),b2) \n",
    "\n",
    "# calculating kullback leibler loss\n",
    "Shat = tf.reduce_mean(hidden,axis=0)\n",
    "KL1 = s*(tf.log(s)-tf.log(Shat))+(1-s)*(tf.log(1-s)-tf.log(1-Shat))\n",
    "KL = tf.math.reduce_sum(KL1)\n",
    "\n",
    "#calculating norm loss\n",
    "weight_L2_norm = tf.reduce_mean(tf.square(W1))\n",
    "\n",
    "#calculating similarity loss\n",
    "similoss = tf.reduce_mean(tf.square(outputs - X))/2\n",
    "\n",
    "# Define loss function and optimizer\n",
    "loss = tf.reduce_mean(tf.square(outputs - X))/2 + beta*KL + lamb*weight_L2_norm\n",
    "\n",
    "#defining optimizer\n",
    "optimizer = tf.train.AdamOptimizer(learning_rate)\n",
    "training_op = optimizer.minimize(loss)\n",
    "\n",
    "#initialization\n",
    "init = tf.global_variables_initializer()\n",
    "\n",
    "n_iterations = 1000\n",
    "\n",
    "costs = []\n",
    "test_costs = []\n",
    "random_costs = []\n",
    "\n",
    "print('type xtrain', type(X_train))\n"
   ]
  },
  {
   "cell_type": "code",
   "execution_count": 41,
   "metadata": {},
   "outputs": [
    {
     "data": {
      "image/png": "[encoded data removed]",
      "text/plain": [
       "<Figure size 432x288 with 1 Axes>"
      ]
     },
     "metadata": {
      "needs_background": "light"
     },
     "output_type": "display_data"
    },
    {
     "data": {
      "image/png": "[encoded data removed]",
      "text/plain": [
       "<Figure size 432x288 with 1 Axes>"
      ]
     },
     "metadata": {
      "needs_background": "light"
     },
     "output_type": "display_data"
    },
    {
     "name": "stdout",
     "output_type": "stream",
     "text": [
      "test_loss 0.30655682\n"
     ]
    }
   ],
   "source": [
    "with tf.Session() as sess:\n",
    "    init.run()\n",
    "    for iteration in range(n_iterations):\n",
    "        _ , cost = sess.run([training_op,loss],feed_dict={X:X_train})\n",
    "        \n",
    "        costs.append(cost)\n",
    "#         training_op.run(feed_dict={X: X_train})\n",
    "        \n",
    "            \n",
    "#         train_loss=loss.eval(feed_dict={X:X_train})\n",
    "#         print(train_loss)\n",
    "    \n",
    "    \n",
    "        test_loss=loss.eval(feed_dict={X:X_test})\n",
    "        test_costs.append(test_loss)\n",
    "        \n",
    "#         random_loss = loss.eval(feed_dict={X:np.random.randn(30,125)})\n",
    "#         random_costs.append(random_loss)\n",
    "\n",
    "    \n",
    "    \n",
    "#     test_output = outputs.eval(feed_dict={X:X_test})\n",
    "    \n",
    "    \n",
    "    # plot the cost\n",
    "    plt.plot(np.squeeze(costs[500:]))\n",
    "    plt.ylabel('cost')\n",
    "    plt.xlabel('iterations (per fives)')\n",
    "    plt.title(\"Learning rate =\" + str(learning_rate))\n",
    "    plt.show()\n",
    "    \n",
    "    # plot the test cost\n",
    "    plt.plot(np.squeeze(test_costs[500:]))\n",
    "    plt.ylabel('test cost')\n",
    "    plt.xlabel('iterations (per fives)')\n",
    "    plt.title(\"Learning rate =\" + str(learning_rate))\n",
    "    plt.show()\n",
    "    \n",
    "#     # plot the test cost\n",
    "#     plt.plot(np.squeeze(random_costs))\n",
    "#     plt.ylabel('test cost')\n",
    "#     plt.xlabel('iterations (per fives)')\n",
    "#     plt.title(\"Learning rate =\" + str(learning_rate))\n",
    "#     plt.show()\n",
    "    \n",
    "#     print(X_test.shape,'X_test shape')\n",
    "#     print(test_output.shape,'test output shape')\n",
    "#     print(tf.square(outputs - X).shape,'shape of tf.square')\n",
    "#     print('tf.square',tf.square(outputs - X).eval(feed_dict={X:X_test}))\n",
    "#     print('equal',(test_output-X_test)*(test_output-X_test))\n",
    "#     print(tf.reduce_mean(tf.square(outputs - X)).shape,'reduce mean shape')\n",
    "    \n",
    "    final_test_loss=loss.eval(feed_dict={X:X_test})\n",
    "    \n",
    "    print('test_loss',final_test_loss)\n",
    "#     print()\n",
    "\n",
    "\n",
    "    # lets save the parameters in a variable, we may need trained parameters to use for the next part of DL\n",
    "    parameters = sess.run(parameters)"
   ]
  },
  {
   "cell_type": "code",
   "execution_count": null,
   "metadata": {},
   "outputs": [],
   "source": []
  }
 ],
 "metadata": {
  "@webio": {
   "lastCommId": null,
   "lastKernelId": null
  },
  "kernelspec": {
   "display_name": "Python 3",
   "language": "python",
   "name": "python3"
  },
  "language_info": {
   "codemirror_mode": {
    "name": "ipython",
    "version": 3
   },
   "file_extension": ".py",
   "mimetype": "text/x-python",
   "name": "python",
   "nbconvert_exporter": "python",
   "pygments_lexer": "ipython3",
   "version": "3.7.4"
  }
 },
 "nbformat": 4,
 "nbformat_minor": 2
}
